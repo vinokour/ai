{
 "cells": [
  {
   "cell_type": "code",
   "execution_count": 10,
   "metadata": {},
   "outputs": [
    {
     "name": "stdout",
     "output_type": "stream",
     "text": [
      "No GPUs found. Training will default to CPU.\n"
     ]
    }
   ],
   "source": [
    "from tensorflow.keras.preprocessing.image import ImageDataGenerator\n",
    "import tensorflow as tf\n",
    "\n",
    "gpus = tf.config.list_physical_devices('GPU')\n",
    "if gpus:\n",
    "    try:\n",
    "        # Currently, memory growth needs to be the same across GPUs\n",
    "        for gpu in gpus:\n",
    "            tf.config.experimental.set_memory_growth(gpu, True)\n",
    "        logical_gpus = tf.config.experimental.list_logical_devices('GPU')\n",
    "        print(f\"{len(gpus)} Physical GPUs, {len(logical_gpus)} Logical GPUs\")\n",
    "    except RuntimeError as e:\n",
    "        # Memory growth must be set before GPUs have been initialized\n",
    "        print(e)\n",
    "else:\n",
    "    print(\"No GPUs found. Training will default to CPU.\")"
   ]
  },
  {
   "cell_type": "code",
   "execution_count": 11,
   "metadata": {},
   "outputs": [],
   "source": [
    "data_dir = 'data'"
   ]
  },
  {
   "cell_type": "code",
   "execution_count": 12,
   "metadata": {},
   "outputs": [],
   "source": [
    "# Define parameters\n",
    "img_width, img_height = 128, 128\n",
    "batch_size = 32"
   ]
  },
  {
   "cell_type": "code",
   "execution_count": 13,
   "metadata": {},
   "outputs": [],
   "source": [
    "# Create an ImageDataGenerator for training with data augmentation\n",
    "train_datagen = ImageDataGenerator(\n",
    "    rescale=1./255,\n",
    "    rotation_range=40,\n",
    "    width_shift_range=0.2,\n",
    "    height_shift_range=0.2,\n",
    "    shear_range=0.2,\n",
    "    zoom_range=0.2,\n",
    "    horizontal_flip=True,\n",
    "    fill_mode='nearest',\n",
    "    validation_split=0.1765  # Approx 15% for validation, when combined with 70% training\n",
    ")\n"
   ]
  },
  {
   "cell_type": "code",
   "execution_count": 14,
   "metadata": {},
   "outputs": [],
   "source": [
    "# Create an ImageDataGenerator for testing (no augmentation, just scaling)\n",
    "test_datagen = ImageDataGenerator(rescale=1./255)"
   ]
  },
  {
   "cell_type": "code",
   "execution_count": 15,
   "metadata": {},
   "outputs": [
    {
     "name": "stdout",
     "output_type": "stream",
     "text": [
      "Found 9783 images belonging to 2 classes.\n"
     ]
    }
   ],
   "source": [
    "# Prepare iterators\n",
    "train_generator = train_datagen.flow_from_directory(\n",
    "    data_dir + '/train',\n",
    "    target_size=(img_height, img_width),\n",
    "    batch_size=batch_size,\n",
    "    class_mode='binary',\n",
    "    subset='training'  # Set as training data\n",
    ")\n"
   ]
  },
  {
   "cell_type": "code",
   "execution_count": 16,
   "metadata": {},
   "outputs": [
    {
     "name": "stdout",
     "output_type": "stream",
     "text": [
      "Found 2096 images belonging to 2 classes.\n"
     ]
    }
   ],
   "source": [
    "validation_generator = train_datagen.flow_from_directory(\n",
    "    data_dir + '/train',\n",
    "    target_size=(img_height, img_width),\n",
    "    batch_size=batch_size,\n",
    "    class_mode='binary',\n",
    "    subset='validation',\n",
    "    shuffle=False\n",
    ")\n"
   ]
  },
  {
   "cell_type": "code",
   "execution_count": 17,
   "metadata": {},
   "outputs": [
    {
     "name": "stdout",
     "output_type": "stream",
     "text": [
      "Found 2000 images belonging to 2 classes.\n"
     ]
    }
   ],
   "source": [
    "test_generator = test_datagen.flow_from_directory(\n",
    "    data_dir + '/test',\n",
    "    target_size=(img_height, img_width),\n",
    "    batch_size=batch_size,\n",
    "    class_mode='binary',\n",
    "    shuffle=False\n",
    ")\n"
   ]
  },
  {
   "cell_type": "code",
   "execution_count": 40,
   "metadata": {},
   "outputs": [
    {
     "name": "stdout",
     "output_type": "stream",
     "text": [
      "Model: \"sequential_7\"\n",
      "_________________________________________________________________\n",
      " Layer (type)                Output Shape              Param #   \n",
      "=================================================================\n",
      " conv2d_7 (Conv2D)           (None, 126, 126, 32)      896       \n",
      "                                                                 \n",
      " max_pooling2d_7 (MaxPoolin  (None, 63, 63, 32)        0         \n",
      " g2D)                                                            \n",
      "                                                                 \n",
      " conv2d_8 (Conv2D)           (None, 61, 61, 32)        9248      \n",
      "                                                                 \n",
      " max_pooling2d_8 (MaxPoolin  (None, 30, 30, 32)        0         \n",
      " g2D)                                                            \n",
      "                                                                 \n",
      " flatten_2 (Flatten)         (None, 28800)             0         \n",
      "                                                                 \n",
      " dense_16 (Dense)            (None, 64)                1843264   \n",
      "                                                                 \n",
      " dropout_9 (Dropout)         (None, 64)                0         \n",
      "                                                                 \n",
      " dense_17 (Dense)            (None, 1)                 65        \n",
      "                                                                 \n",
      "=================================================================\n",
      "Total params: 1853473 (7.07 MB)\n",
      "Trainable params: 1853473 (7.07 MB)\n",
      "Non-trainable params: 0 (0.00 Byte)\n",
      "_________________________________________________________________\n"
     ]
    }
   ],
   "source": [
    "from tensorflow.keras.applications import ResNet50\n",
    "from tensorflow.keras.layers import Input\n",
    "import keras\n",
    "\n",
    "# Load a pre-trained ResNet and add custom layers\n",
    "base_model = ResNet50(weights='imagenet', include_top=False, input_tensor=Input(shape=(img_height, img_width, 3)))\n",
    "base_model.trainable = False  # Freeze the base model\n",
    "\n",
    "# OLD MODEL: model1.h5\n",
    "model = keras.models.Sequential([\n",
    "    keras.layers.Conv2D(32, (3, 3), activation='relu', input_shape=(img_height, img_width, 3)),\n",
    "    keras.layers.MaxPooling2D(2, 2),\n",
    "    keras.layers.Conv2D(32, (3, 3), activation='relu'),\n",
    "    keras.layers.MaxPooling2D(2, 2),\n",
    "    keras.layers.Flatten(),\n",
    "    keras.layers.Dense(64, activation='relu'),\n",
    "    keras.layers.Dropout(0.5),\n",
    "    keras.layers.Dense(1, activation='sigmoid')\n",
    "    \n",
    "])\n",
    "\n",
    "# NEW MODEL: model2.h5\n",
    "# model = keras.models.Sequential([\n",
    "#     base_model,  # Pre-trained ResNet50 base model\n",
    "#     keras.layers.GlobalAveragePooling2D(),  # Reduce dimensionality and prevent overfitting\n",
    "#     keras.layers.Dense(64, activation='relu'),  # First Dense layer\n",
    "#     keras.layers.Dropout(0.5),  # Dropout to combat overfitting\n",
    "#     keras.layers.Dense(1, activation='sigmoid')  # Output layer for binary classification\n",
    "# ])\n",
    "\n",
    "\n",
    "# model5.h5\n",
    "# model = keras.models.Sequential([\n",
    "#     # Start with a simplified version of your original model\n",
    "#     keras.layers.Conv2D(32, (3, 3), activation='relu', padding='same', input_shape=(img_height, img_width, 3)),\n",
    "#     keras.layers.MaxPooling2D(2, 2),\n",
    "#     keras.layers.Conv2D(64, (3, 3), activation='relu', padding='same'),\n",
    "#     keras.layers.MaxPooling2D(2, 2),\n",
    "#     keras.layers.Conv2D(128, (3, 3), activation='relu', padding='same'),\n",
    "#     keras.layers.MaxPooling2D(2, 2),\n",
    "    \n",
    "#     # Global average pooling layer instead of flattening to reduce dimensionality\n",
    "#     keras.layers.GlobalAveragePooling2D(),\n",
    "    \n",
    "#     # Dense layers for classification\n",
    "#     keras.layers.Dense(128, activation='relu'),\n",
    "#     keras.layers.Dropout(0.5),\n",
    "#     keras.layers.Dense(1, activation='sigmoid')\n",
    "# ])\n",
    "\n",
    "\n",
    "model.compile(optimizer='adam', loss='binary_crossentropy', metrics=['accuracy'])\n",
    "\n",
    "model.summary()"
   ]
  },
  {
   "cell_type": "code",
   "execution_count": 46,
   "metadata": {},
   "outputs": [
    {
     "name": "stdout",
     "output_type": "stream",
     "text": [
      "TensorFlow Version: 2.15.0\n",
      "Keras Version: 2.15.0\n",
      "Scipy Version: 1.12.0\n",
      "Epoch 1/15\n",
      "305/305 [==============================] - 97s 318ms/step - loss: 0.3672 - accuracy: 0.8436 - val_loss: 0.4998 - val_accuracy: 0.7827\n",
      "Epoch 2/15\n",
      "305/305 [==============================] - 92s 301ms/step - loss: 0.3675 - accuracy: 0.8436 - val_loss: 0.5189 - val_accuracy: 0.7861\n",
      "Epoch 3/15\n",
      "305/305 [==============================] - 91s 299ms/step - loss: 0.3620 - accuracy: 0.8504 - val_loss: 0.5394 - val_accuracy: 0.7846\n",
      "Epoch 4/15\n",
      "305/305 [==============================] - 94s 306ms/step - loss: 0.3551 - accuracy: 0.8495 - val_loss: 0.4964 - val_accuracy: 0.7981\n",
      "Epoch 5/15\n",
      "305/305 [==============================] - 91s 299ms/step - loss: 0.3479 - accuracy: 0.8549 - val_loss: 0.4987 - val_accuracy: 0.7788\n",
      "Epoch 6/15\n",
      "305/305 [==============================] - 92s 302ms/step - loss: 0.3521 - accuracy: 0.8500 - val_loss: 0.5222 - val_accuracy: 0.7649\n",
      "Epoch 7/15\n",
      "305/305 [==============================] - 92s 301ms/step - loss: 0.3509 - accuracy: 0.8523 - val_loss: 0.5074 - val_accuracy: 0.7870\n",
      "63/63 [==============================] - 4s 58ms/step - loss: 0.3054 - accuracy: 0.8890\n",
      "Test accuracy: 0.8889999985694885\n"
     ]
    },
    {
     "name": "stderr",
     "output_type": "stream",
     "text": [
      "/home/afriedsam/Programming/intro-AI/env/lib/python3.10/site-packages/keras/src/engine/training.py:3103: UserWarning: You are saving your model as an HDF5 file via `model.save()`. This file format is considered legacy. We recommend using instead the native Keras format, e.g. `model.save('my_model.keras')`.\n",
      "  saving_api.save_model(\n"
     ]
    }
   ],
   "source": [
    "# Run this cell to train model\n",
    "\n",
    "import tensorflow as tf\n",
    "import keras\n",
    "import scipy\n",
    "\n",
    "print(\"TensorFlow Version:\", tf.__version__)\n",
    "print(\"Keras Version:\", keras.__version__)\n",
    "print(\"Scipy Version:\", scipy.__version__)\n",
    "\n",
    "epochs = 15\n",
    "history = model.fit(\n",
    "    train_generator,\n",
    "    steps_per_epoch=train_generator.samples // batch_size,\n",
    "    epochs=epochs,\n",
    "    validation_data=validation_generator,\n",
    "    validation_steps=validation_generator.samples // batch_size,\n",
    "    callbacks=[keras.callbacks.EarlyStopping(monitor='val_loss', patience=3)]\n",
    ")\n",
    "test_loss, test_accuracy = model.evaluate(test_generator)\n",
    "print('Test accuracy:', test_accuracy)\n",
    "model.save('model5.h5')"
   ]
  },
  {
   "cell_type": "code",
   "execution_count": 48,
   "metadata": {},
   "outputs": [
    {
     "name": "stdout",
     "output_type": "stream",
     "text": [
      "63/63 [==============================] - 4s 68ms/step - loss: 0.3054 - accuracy: 0.8890\n",
      "Test accuracy: 0.8889999985694885\n"
     ]
    }
   ],
   "source": [
    "# RUN THIS CELL TO LOAD PRETRAINED MODEL\n",
    "\n",
    "model = keras.models.load_model('model5.h5')\n",
    "\n",
    "test_loss, test_accuracy = model.evaluate(test_generator)\n",
    "print(f'Test accuracy: {test_accuracy}')"
   ]
  },
  {
   "cell_type": "code",
   "execution_count": 61,
   "metadata": {},
   "outputs": [
    {
     "name": "stdout",
     "output_type": "stream",
     "text": [
      "63/63 [==============================] - 5s 74ms/step\n",
      "Confusion Matrix:\n",
      "[[887 113]\n",
      " [109 891]]\n",
      "\n",
      "Metrics:\n",
      "Number of Images: 2000\n",
      "Correctly Predicted: 1778\n",
      "False Positives: 113\n",
      "False Negatives: 109\n",
      "Accuracy: 89%\n"
     ]
    }
   ],
   "source": [
    "import numpy as np\n",
    "from sklearn.metrics import confusion_matrix\n",
    "\n",
    "# Generate predictions for the entire test set\n",
    "predictions = model.predict(test_generator)\n",
    "\n",
    "# Tweaking cutoff for prediction probability reduces false negatives by a lot but doesn't decrease accuracy too much\n",
    "# 0.3:\n",
    "    # Accuracy: 86%\n",
    "    # Correct Predictions: 1725/2000\n",
    "    # False Positives: 249/2000\n",
    "    # False Negatives 26/2000\n",
    "# 0.35\n",
    "    # Accuracy: 88%\n",
    "    # Correct Predictions: 1755/2000\n",
    "    # False Positives: 203/2000\n",
    "    # False Negatives 42/2000\n",
    "# 0.4\n",
    "    # Accuracy: 89%\n",
    "    # Correct Predictions: 1771/2000\n",
    "    # False Positives: 173/2000\n",
    "    # False Negatives 56/2000\n",
    "# 0.45\n",
    "    # Accuracy: 89%\n",
    "    # Correct Predictions: 1780/2000\n",
    "    # False Positives: 141/2000\n",
    "    # False Negatives 79/2000\n",
    "# 0.5\n",
    "    # Accuracy: 89%\n",
    "    # Correct Predictions: 1778/2000\n",
    "    # False Positives: 113/2000\n",
    "    # False Negatives 109/2000\n",
    "predicted_classes = (predictions > 0.5).astype(int)\n",
    "true_classes = test_generator.classes\n",
    "class_labels = list(test_generator.class_indices.keys())\n",
    "\n",
    "# Compute confusion matrix\n",
    "cm = confusion_matrix(true_classes, predicted_classes)\n",
    "true_positive = cm[1, 1]\n",
    "false_positive = cm[0, 1]\n",
    "true_negative = cm[0, 0]\n",
    "false_negative = cm[1, 0]\n",
    "\n",
    "# Display results\n",
    "print(\"Confusion Matrix:\")\n",
    "print(cm)\n",
    "\n",
    "print(\"\\nMetrics:\")\n",
    "print(f\"Number of Images: {len(true_classes)}\")\n",
    "print(f\"Correctly Predicted: {true_positive + true_negative}\")\n",
    "print(f\"False Positives: {false_positive}\")\n",
    "print(f\"False Negatives: {false_negative}\")\n",
    "print(f\"Accuracy: {round((true_positive + true_negative) / 2000 * 100)}%\")"
   ]
  },
  {
   "cell_type": "code",
   "execution_count": null,
   "metadata": {},
   "outputs": [],
   "source": []
  }
 ],
 "metadata": {
  "kernelspec": {
   "display_name": "ai",
   "language": "python",
   "name": "python3"
  },
  "language_info": {
   "codemirror_mode": {
    "name": "ipython",
    "version": 3
   },
   "file_extension": ".py",
   "mimetype": "text/x-python",
   "name": "python",
   "nbconvert_exporter": "python",
   "pygments_lexer": "ipython3",
   "version": "3.10.12"
  }
 },
 "nbformat": 4,
 "nbformat_minor": 2
}
