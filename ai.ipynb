{
 "cells": [
  {
   "cell_type": "code",
   "execution_count": 1,
   "metadata": {},
   "outputs": [
    {
     "name": "stderr",
     "output_type": "stream",
     "text": [
      "2024-04-24 00:43:57.249423: I tensorflow/core/util/port.cc:113] oneDNN custom operations are on. You may see slightly different numerical results due to floating-point round-off errors from different computation orders. To turn them off, set the environment variable `TF_ENABLE_ONEDNN_OPTS=0`.\n",
      "2024-04-24 00:43:57.576338: E external/local_xla/xla/stream_executor/cuda/cuda_dnn.cc:9261] Unable to register cuDNN factory: Attempting to register factory for plugin cuDNN when one has already been registered\n",
      "2024-04-24 00:43:57.576458: E external/local_xla/xla/stream_executor/cuda/cuda_fft.cc:607] Unable to register cuFFT factory: Attempting to register factory for plugin cuFFT when one has already been registered\n",
      "2024-04-24 00:43:57.612539: E external/local_xla/xla/stream_executor/cuda/cuda_blas.cc:1515] Unable to register cuBLAS factory: Attempting to register factory for plugin cuBLAS when one has already been registered\n",
      "2024-04-24 00:43:57.715664: I tensorflow/core/platform/cpu_feature_guard.cc:182] This TensorFlow binary is optimized to use available CPU instructions in performance-critical operations.\n",
      "To enable the following instructions: AVX2 AVX_VNNI FMA, in other operations, rebuild TensorFlow with the appropriate compiler flags.\n",
      "2024-04-24 00:44:00.025420: W tensorflow/compiler/tf2tensorrt/utils/py_utils.cc:38] TF-TRT Warning: Could not find TensorRT\n"
     ]
    }
   ],
   "source": [
    "from tensorflow.keras.preprocessing.image import ImageDataGenerator\n",
    "\n",
    "from tensorflow.keras.applications import ResNet50\n",
    "from tensorflow.keras.layers import Input\n",
    "import keras\n",
    "\n",
    "import tensorflow as tf\n",
    "import keras\n",
    "import scipy\n",
    "\n",
    "import numpy as np\n",
    "from sklearn.metrics import confusion_matrix"
   ]
  },
  {
   "cell_type": "code",
   "execution_count": 2,
   "metadata": {},
   "outputs": [],
   "source": [
    "# Define parameters and data directory\n",
    "img_width, img_height = 128, 128\n",
    "batch_size = 32\n",
    "data_dir = 'data'"
   ]
  },
  {
   "cell_type": "code",
   "execution_count": 3,
   "metadata": {},
   "outputs": [],
   "source": [
    "# Create an ImageDataGenerator for training with data augmentation\n",
    "train_datagen = ImageDataGenerator(\n",
    "    rescale=1./255,\n",
    "    rotation_range=40,\n",
    "    width_shift_range=0.2,\n",
    "    height_shift_range=0.2,\n",
    "    shear_range=0.2,\n",
    "    zoom_range=0.2,\n",
    "    horizontal_flip=True,\n",
    "    vertical_flip=True,\n",
    "    fill_mode='nearest',\n",
    "    validation_split=0.1765  # Approx 15% for validation, when combined with 70% training\n",
    ")"
   ]
  },
  {
   "cell_type": "code",
   "execution_count": 4,
   "metadata": {},
   "outputs": [],
   "source": [
    "# Create an ImageDataGenerator for testing (no augmentation, just scaling)\n",
    "test_datagen = ImageDataGenerator(rescale=1./255)"
   ]
  },
  {
   "cell_type": "code",
   "execution_count": 5,
   "metadata": {},
   "outputs": [
    {
     "name": "stdout",
     "output_type": "stream",
     "text": [
      "Found 9783 images belonging to 2 classes.\n",
      "Found 2096 images belonging to 2 classes.\n",
      "Found 2000 images belonging to 2 classes.\n"
     ]
    }
   ],
   "source": [
    "# Prepare iterators\n",
    "train_generator = train_datagen.flow_from_directory(\n",
    "    data_dir + '/train',\n",
    "    target_size=(img_height, img_width),\n",
    "    batch_size=batch_size,\n",
    "    class_mode='binary',\n",
    "    subset='training',\n",
    "    shuffle=False\n",
    ")\n",
    "\n",
    "validation_generator = train_datagen.flow_from_directory(\n",
    "    data_dir + '/train',\n",
    "    target_size=(img_height, img_width),\n",
    "    batch_size=batch_size,\n",
    "    class_mode='binary',\n",
    "    subset='validation',\n",
    "    shuffle=False\n",
    ")\n",
    "\n",
    "test_generator = test_datagen.flow_from_directory(\n",
    "    data_dir + '/test',\n",
    "    target_size=(img_height, img_width),\n",
    "    batch_size=batch_size,\n",
    "    class_mode='binary',\n",
    "    shuffle=False\n",
    ")"
   ]
  },
  {
   "cell_type": "code",
   "execution_count": 6,
   "metadata": {},
   "outputs": [
    {
     "name": "stdout",
     "output_type": "stream",
     "text": [
      "Model: \"sequential\"\n",
      "_________________________________________________________________\n",
      " Layer (type)                Output Shape              Param #   \n",
      "=================================================================\n",
      " conv2d (Conv2D)             (None, 126, 126, 32)      896       \n",
      "                                                                 \n",
      " max_pooling2d (MaxPooling2  (None, 63, 63, 32)        0         \n",
      " D)                                                              \n",
      "                                                                 \n",
      " conv2d_1 (Conv2D)           (None, 63, 63, 64)        18496     \n",
      "                                                                 \n",
      " max_pooling2d_1 (MaxPoolin  (None, 31, 31, 64)        0         \n",
      " g2D)                                                            \n",
      "                                                                 \n",
      " conv2d_2 (Conv2D)           (None, 31, 31, 128)       73856     \n",
      "                                                                 \n",
      " max_pooling2d_2 (MaxPoolin  (None, 15, 15, 128)       0         \n",
      " g2D)                                                            \n",
      "                                                                 \n",
      " flatten (Flatten)           (None, 28800)             0         \n",
      "                                                                 \n",
      " dense (Dense)               (None, 64)                1843264   \n",
      "                                                                 \n",
      " dropout (Dropout)           (None, 64)                0         \n",
      "                                                                 \n",
      " dense_1 (Dense)             (None, 1)                 65        \n",
      "                                                                 \n",
      "=================================================================\n",
      "Total params: 1936577 (7.39 MB)\n",
      "Trainable params: 1936577 (7.39 MB)\n",
      "Non-trainable params: 0 (0.00 Byte)\n",
      "_________________________________________________________________\n"
     ]
    }
   ],
   "source": [
    "# First Model:\n",
    "# Accuracy: 66.549%\n",
    "# 15 Epochs\n",
    "# model = keras.models.Sequential([\n",
    "#     keras.layers.Conv2D(32, (3, 3), activation='relu', padding='same', input_shape=(img_height, img_width, 3)),\n",
    "#     keras.layers.MaxPooling2D(2, 2),\n",
    "#     keras.layers.Conv2D(64, (3, 3), activation='relu', padding='same'),\n",
    "#     keras.layers.MaxPooling2D(2, 2),\n",
    "#     keras.layers.Conv2D(128, (3, 3), activation='relu', padding='same'),\n",
    "#     keras.layers.MaxPooling2D(2, 2),\n",
    "    \n",
    "#     # Global average pooling layer instead of flattening to reduce dimensionality\n",
    "#     keras.layers.GlobalAveragePooling2D(),\n",
    "    \n",
    "#     # Dense layers for classification\n",
    "#     keras.layers.Dense(128, activation='relu'),\n",
    "#     keras.layers.Dropout(0.5),\n",
    "#     keras.layers.Dense(1, activation='sigmoid')\n",
    "# ])\n",
    "\n",
    "# Second Model (ResNet)\n",
    "# Accuracy: 64.149%\n",
    "# Epochs: 15\n",
    "# Load a pre-trained ResNet and add custom layers\n",
    "# base_model = ResNet50(weights='imagenet', include_top=False, input_tensor=Input(shape=(img_height, img_width, 3)))\n",
    "# base_model.trainable = False  # Freeze the base model\n",
    "# model = keras.models.Sequential([\n",
    "#     base_model,  # Pre-trained ResNet50 base model\n",
    "#     keras.layers.GlobalAveragePooling2D(),  # Reduce dimensionality and prevent overfitting\n",
    "#     keras.layers.Dense(64, activation='relu'),  # First Dense layer\n",
    "#     keras.layers.Dropout(0.5),  # Dropout to combat overfitting\n",
    "#     keras.layers.Dense(1, activation='sigmoid')  # Output layer for binary classification\n",
    "# ])\n",
    "\n",
    "\n",
    "# Third Model\n",
    "# Accuracy: 82%\n",
    "# Epochs: 15\n",
    "# model = keras.models.Sequential([\n",
    "#     keras.layers.Conv2D(32, (3, 3), activation='relu', input_shape=(img_height, img_width, 3)),\n",
    "#     keras.layers.MaxPooling2D(2, 2),\n",
    "#     keras.layers.Conv2D(32, (3, 3), activation='relu'),\n",
    "#     keras.layers.MaxPooling2D(2, 2),\n",
    "#     keras.layers.Flatten(),\n",
    "#     keras.layers.Dense(64, activation='relu'),\n",
    "#     keras.layers.Dropout(0.5),\n",
    "#     keras.layers.Dense(1, activation='sigmoid')\n",
    "    \n",
    "# ])\n",
    "\n",
    "# Fourth/Final Model\n",
    "# Accuracy 84.85%\n",
    "# Epochs: 15\n",
    "model = keras.models.Sequential([\n",
    "    keras.layers.Conv2D(32, (3, 3), activation='relu', input_shape=(img_height, img_width, 3)),\n",
    "    keras.layers.MaxPooling2D(2, 2),\n",
    "    keras.layers.Conv2D(64, (3, 3), activation='relu', padding='same'),\n",
    "    keras.layers.MaxPooling2D(2, 2),\n",
    "    keras.layers.Conv2D(128, (3, 3), activation='relu', padding='same'),\n",
    "    keras.layers.MaxPooling2D(2, 2),\n",
    "    keras.layers.Flatten(),\n",
    "    keras.layers.Dense(64, activation='relu'),\n",
    "    keras.layers.Dropout(0.4),  # Adjusted dropout rate\n",
    "    keras.layers.Dense(1, activation='sigmoid')\n",
    "])\n",
    "\n",
    "model.compile(optimizer='adam', loss='binary_crossentropy', metrics=['accuracy'])\n",
    "\n",
    "model.summary()"
   ]
  },
  {
   "cell_type": "code",
   "execution_count": 7,
   "metadata": {},
   "outputs": [
    {
     "name": "stdout",
     "output_type": "stream",
     "text": [
      "Epoch 1/15\n",
      "305/305 [==============================] - 170s 555ms/step - loss: 0.6344 - accuracy: 0.6298 - val_loss: 0.6589 - val_accuracy: 0.6918\n",
      "Epoch 2/15\n",
      "305/305 [==============================] - 181s 593ms/step - loss: 0.6233 - accuracy: 0.6454 - val_loss: 0.6394 - val_accuracy: 0.6322\n",
      "Epoch 3/15\n",
      "305/305 [==============================] - 164s 537ms/step - loss: 0.6643 - accuracy: 0.6531 - val_loss: 0.6390 - val_accuracy: 0.6183\n",
      "Epoch 4/15\n",
      "305/305 [==============================] - 169s 554ms/step - loss: 0.6124 - accuracy: 0.6443 - val_loss: 0.6363 - val_accuracy: 0.6245\n",
      "Epoch 5/15\n",
      "305/305 [==============================] - 178s 583ms/step - loss: 0.6091 - accuracy: 0.6739 - val_loss: 0.6279 - val_accuracy: 0.6250\n",
      "Epoch 6/15\n",
      "305/305 [==============================] - 169s 553ms/step - loss: 0.5954 - accuracy: 0.6636 - val_loss: 0.6204 - val_accuracy: 0.6389\n",
      "Epoch 7/15\n",
      "305/305 [==============================] - 171s 562ms/step - loss: 0.5934 - accuracy: 0.6978 - val_loss: 0.6229 - val_accuracy: 0.6683\n",
      "Epoch 8/15\n",
      "305/305 [==============================] - 174s 571ms/step - loss: 0.5261 - accuracy: 0.7344 - val_loss: 0.5938 - val_accuracy: 0.6885\n",
      "Epoch 9/15\n",
      "305/305 [==============================] - 171s 560ms/step - loss: 0.5036 - accuracy: 0.7479 - val_loss: 0.6400 - val_accuracy: 0.6769\n",
      "Epoch 10/15\n",
      "305/305 [==============================] - 177s 580ms/step - loss: 0.4816 - accuracy: 0.7668 - val_loss: 0.5822 - val_accuracy: 0.6928\n",
      "Epoch 11/15\n",
      "305/305 [==============================] - 177s 581ms/step - loss: 0.4749 - accuracy: 0.7715 - val_loss: 0.5870 - val_accuracy: 0.6673\n",
      "Epoch 12/15\n",
      "305/305 [==============================] - 186s 611ms/step - loss: 0.4423 - accuracy: 0.7894 - val_loss: 0.5421 - val_accuracy: 0.7452\n",
      "Epoch 13/15\n",
      "305/305 [==============================] - 177s 581ms/step - loss: 0.4120 - accuracy: 0.8151 - val_loss: 0.5174 - val_accuracy: 0.7471\n",
      "Epoch 14/15\n",
      "305/305 [==============================] - 159s 521ms/step - loss: 0.3954 - accuracy: 0.8236 - val_loss: 0.5686 - val_accuracy: 0.7433\n",
      "Epoch 15/15\n",
      "305/305 [==============================] - 184s 602ms/step - loss: 0.3962 - accuracy: 0.8282 - val_loss: 0.5339 - val_accuracy: 0.7692\n",
      "63/63 [==============================] - 10s 150ms/step - loss: 0.3732 - accuracy: 0.8485\n",
      "Test accuracy: 0.8485000133514404\n"
     ]
    },
    {
     "name": "stderr",
     "output_type": "stream",
     "text": [
      "/home/afriedsam/Programming/intro-AI/env/lib/python3.10/site-packages/keras/src/engine/training.py:3103: UserWarning: You are saving your model as an HDF5 file via `model.save()`. This file format is considered legacy. We recommend using instead the native Keras format, e.g. `model.save('my_model.keras')`.\n",
      "  saving_api.save_model(\n"
     ]
    }
   ],
   "source": [
    "# Run this cell to train model\n",
    "epochs = 15\n",
    "history = model.fit(\n",
    "    train_generator,\n",
    "    steps_per_epoch=train_generator.samples // batch_size,\n",
    "    epochs=epochs,\n",
    "    validation_data=validation_generator,\n",
    "    validation_steps=validation_generator.samples // batch_size,\n",
    "    callbacks=[keras.callbacks.EarlyStopping(monitor='val_loss', patience=3)]\n",
    ")\n",
    "test_loss, test_accuracy = model.evaluate(test_generator)\n",
    "print('Test accuracy:', test_accuracy)\n",
    "model.save('model5.h5')"
   ]
  },
  {
   "cell_type": "code",
   "execution_count": 23,
   "metadata": {},
   "outputs": [
    {
     "name": "stdout",
     "output_type": "stream",
     "text": [
      "63/63 [==============================] - 11s 170ms/step - loss: 0.3732 - accuracy: 0.8485\n",
      "Test accuracy: 0.8485000133514404\n"
     ]
    }
   ],
   "source": [
    "# RUN THIS CELL TO LOAD PRETRAINED MODEL\n",
    "\n",
    "model = keras.models.load_model('model5.h5')\n",
    "\n",
    "test_loss, test_accuracy = model.evaluate(test_generator)\n",
    "print(f'Test accuracy: {test_accuracy}')"
   ]
  },
  {
   "cell_type": "code",
   "execution_count": 22,
   "metadata": {},
   "outputs": [
    {
     "name": "stdout",
     "output_type": "stream",
     "text": [
      "63/63 [==============================] - 10s 153ms/step\n",
      "Confusion Matrix:\n",
      "[[812 188]\n",
      " [115 885]]\n",
      "\n",
      "Metrics:\n",
      "Number of Images: 2000\n",
      "Correctly Predicted: 1697\n",
      "False Positives: 188\n",
      "False Negatives: 115\n",
      "Accuracy: 84.85%\n"
     ]
    }
   ],
   "source": [
    "# Generate predictions for the entire test set\n",
    "predictions = model.predict(test_generator)\n",
    "\n",
    "# Tweaking cutoff for prediction probability reduces false negatives by a lot but doesn't decrease accuracy too much\n",
    "\n",
    "predicted_classes = (predictions > 0.5).astype(int)\n",
    "true_classes = test_generator.classes\n",
    "class_labels = list(test_generator.class_indices.keys())\n",
    "\n",
    "# Compute confusion matrix\n",
    "cm = confusion_matrix(true_classes, predicted_classes)\n",
    "true_positive = cm[1, 1]\n",
    "false_positive = cm[0, 1]\n",
    "true_negative = cm[0, 0]\n",
    "false_negative = cm[1, 0]\n",
    "\n",
    "# Display results\n",
    "print(\"Confusion Matrix:\")\n",
    "print(cm)\n",
    "\n",
    "print(\"\\nMetrics:\")\n",
    "print(f\"Number of Images: {len(true_classes)}\")\n",
    "print(f\"Correctly Predicted: {true_positive + true_negative}\")\n",
    "print(f\"False Positives: {false_positive}\")\n",
    "print(f\"False Negatives: {false_negative}\")\n",
    "print(f\"Accuracy: {round((true_positive + true_negative) / 2000 * 100, 2)}%\")"
   ]
  },
  {
   "attachments": {
    "image-2.png": {
     "image/png": "[encoded data removed]"
    },
    "image.png": {
     "image/png": "[encoded data removed]"
    }
   },
   "cell_type": "markdown",
   "metadata": {},
   "source": [
    "# A Note On Prediction Threshold:\n",
    "We have found that we are able to yield the highest accuracy rating using a threshold of 0.5. Predictions greater than 0.5 are classified as malignant and predictions lower than 0.5 are classified as benign. If we lower this threshold we will decrease our accuracy. However, we can also significantly lower the number of false negatives by lowering this threshold. Additionally, the lower threshold still yields a relatively good accuracy rating. See graphs below to the tradeoffs. Ideally, users of this software could set their own threshold based on their individual use cases.\n",
    "\n",
    "| Threshold | Accuracy | Correct Predictions | False Positives | False Negatives |\n",
    "|-----------|----------|---------------------|-----------------|-----------------|\n",
    "| 0.15      | 70.5%    | 1410/2000           | 589/2000        | 1/2000          |\n",
    "| 0.20      | 74.05%   | 1481/2000           | 514/2000        | 5/2000          |\n",
    "| 0.25      | 77.25%   | 1545/2000           | 446/2000        | 9/2000          |\n",
    "| 0.3       | 80.85%   | 1617/2000           | 365/2000        | 18/2000         |\n",
    "| 0.35      | 82.95%   | 1659/2000           | 308/2000        | 33/2000         |\n",
    "| 0.4       | 84.45%   | 1689/2000           | 250/2000        | 51/2000         |\n",
    "| 0.45      | 84.7%    | 1694/2000           | 229/2000        | 77/2000         |\n",
    "| 0.5       | 84.85%   | 1697/2000           | 188/2000        | 115/2000        |\n",
    "\n",
    "\n",
    "![image.png](attachment:image.png)![image-2.png](attachment:image-2.png)"
   ]
  },
  {
   "cell_type": "markdown",
   "metadata": {},
   "source": []
  }
 ],
 "metadata": {
  "kernelspec": {
   "display_name": "ai",
   "language": "python",
   "name": "python3"
  },
  "language_info": {
   "codemirror_mode": {
    "name": "ipython",
    "version": 3
   },
   "file_extension": ".py",
   "mimetype": "text/x-python",
   "name": "python",
   "nbconvert_exporter": "python",
   "pygments_lexer": "ipython3",
   "version": "3.10.12"
  }
 },
 "nbformat": 4,
 "nbformat_minor": 2
}
